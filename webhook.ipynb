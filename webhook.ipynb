{
 "cells": [
  {
   "cell_type": "code",
   "execution_count": 3,
   "metadata": {},
   "outputs": [],
   "source": [
    "import json\n",
    "import os\n",
    "import requests\n",
    "\n",
    "from flask import Flask\n",
    "from flask import request\n",
    "from flask import make_response"
   ]
  },
  {
   "cell_type": "code",
   "execution_count": null,
   "metadata": {},
   "outputs": [],
   "source": [
    "# La aplicación Flask debe iniciarse en el diseño global\n",
    "\n",
    "app=Flask(__name__)\n",
    "\n",
    "@app.route('/webhook',methods=['POST'])\n",
    "\n",
    "def webhook():\n",
    "    req=request.get_json(silent=True force=True)\n",
    "    print(json.dumps(req, indent=4))\n",
    "    \n",
    "    res=makeResponse(req)\n",
    "    res=json.dumps(res, indent=4)\n",
    "    r=make_response(res)\n",
    "    r.headers['Content-Type']='application/json'\n",
    "    return r\n",
    "\n",
    "def makeResponse(req):\n",
    "    result=req.get(\"result\")\n",
    "    parameters=result.get(\"parameters\")\n",
    "    city=parameters.get(\"geo-city\")\n",
    "    date=parameters.get(\"date\")\n",
    "    r=requests.get('http://api.openweathermap.org/data/2.5/forecast?q=London,us&appid=b1b15e88fa797225412429c1c50c122a1')\n",
    "    json_object=r.json()\n",
    "    weather=json_object['list']\n",
    "    for i in range(0,30):\n",
    "        if date in weather[i]['dt_txt']\n",
    "        condition=weather[i]['weather'][0]['description']\n",
    "        break\n",
    "         \n",
    "    \n",
    "    speech=\"El pronostico para\"+city+ \"y para el dia\"+date+\" es \"+condition\n",
    "    return{\n",
    "        \"speech\": speech,\n",
    "        \"displayText\": speech,\n",
    "        \"source\": \"apiai-weather-webhook\"\n",
    "    }\n",
    "\n",
    "if __name__=='__main__':\n",
    "    port=int(os.getenv('PORT',5000))\n",
    "    print(\"Inicio de la aplicacion en el puerto %d\" % port)\n",
    "    app.run(debug=False, port=port, host='0.0.0.0')"
   ]
  }
 ],
 "metadata": {
  "kernelspec": {
   "display_name": "Python 3",
   "language": "python",
   "name": "python3"
  },
  "language_info": {
   "codemirror_mode": {
    "name": "ipython",
    "version": 3
   },
   "file_extension": ".py",
   "mimetype": "text/x-python",
   "name": "python",
   "nbconvert_exporter": "python",
   "pygments_lexer": "ipython3",
   "version": "3.6.5"
  }
 },
 "nbformat": 4,
 "nbformat_minor": 2
}
